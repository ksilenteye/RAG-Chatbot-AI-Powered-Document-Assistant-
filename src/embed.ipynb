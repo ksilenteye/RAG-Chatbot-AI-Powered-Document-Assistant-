{
 "cells": [
  {
   "cell_type": "code",
   "execution_count": null,
   "id": "e5cb0b27",
   "metadata": {},
   "outputs": [],
   "source": [
    "\n",
    "from sentence_transformers import SentenceTransformer\n",
    "import faiss\n",
    "import pickle\n",
    "import os\n",
    "\n",
    "def load_chunks(path=\"chunks/chunks.txt\"):\n",
    "    with open(path, \"r\", encoding=\"utf-8\") as f:\n",
    "        return f.read().split(\"\\n---\\n\")\n",
    "\n",
    "def embed_and_store(chunks, model_name='all-MiniLM-L6-v2'):\n",
    "    print(\"Loading embedding model...\")\n",
    "    model = SentenceTransformer(model_name)\n",
    "\n",
    "    print(\"Generating embeddings...\")\n",
    "    embeddings = model.encode(chunks)\n",
    "\n",
    "    print(\"Storing in FAISS...\")\n",
    "    index = faiss.IndexFlatL2(embeddings.shape[1])\n",
    "    index.add(embeddings)\n",
    "\n",
    "    os.makedirs(\"vectordb\", exist_ok=True)\n",
    "    faiss.write_index(index, \"vectordb/index.faiss\")\n",
    "\n",
    "    with open(\"vectordb/chunks.pkl\", \"wb\") as f:\n",
    "        pickle.dump(chunks, f)\n",
    "\n",
    "    print(\"Saved vector DB and chunks.\")\n",
    "\n",
    "if __name__ == \"__main__\":\n",
    "    chunks = load_chunks()\n",
    "    embed_and_store(chunks)\n"
   ]
  }
 ],
 "metadata": {
  "language_info": {
   "name": "python"
  }
 },
 "nbformat": 4,
 "nbformat_minor": 5
}
